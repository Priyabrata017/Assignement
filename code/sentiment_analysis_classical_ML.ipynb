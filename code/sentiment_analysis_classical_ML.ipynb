{
 "cells": [
  {
   "cell_type": "code",
   "execution_count": 1,
   "id": "d1a969cd-93c2-4524-8111-5cc5d46ef9c5",
   "metadata": {},
   "outputs": [],
   "source": [
    "#Import Libraries\n",
    "import numpy as np \n",
    "import pandas as pd \n",
    "from sklearn.feature_extraction.text import CountVectorizer\n",
    "import matplotlib.pyplot as plt\n",
    "import warnings\n",
    "from sklearn.feature_extraction.text import TfidfVectorizer\n",
    "from sklearn.naive_bayes import MultinomialNB\n",
    "from xgboost import XGBClassifier\n",
    "from sklearn.metrics import confusion_matrix\n",
    "from sklearn.model_selection import train_test_split\n",
    "from sklearn.ensemble import RandomForestClassifier\n",
    "from sklearn.metrics import classification_report, accuracy_score\n",
    "import re\n",
    "import nltk\n",
    "from numpy import triu\n",
    "from gensim.models import Word2Vec\n",
    "from nltk.tokenize import word_tokenize\n",
    "from bs4 import BeautifulSoup\n",
    "from nltk.corpus import stopwords\n",
    "from nltk.stem import PorterStemmer\n",
    "from nltk.tokenize import word_tokenize\n",
    "# Ignore all warnings\n",
    "warnings.filterwarnings('ignore')"
   ]
  },
  {
   "cell_type": "code",
   "execution_count": 2,
   "id": "07ff351d-c297-4291-9744-a09e35a76f10",
   "metadata": {},
   "outputs": [],
   "source": [
    "df=pd.read_csv(\"./flipkart_reviews_data.csv\")"
   ]
  },
  {
   "cell_type": "code",
   "execution_count": 3,
   "id": "e6a6f6d2-623f-467a-9aba-88b077bf38a9",
   "metadata": {},
   "outputs": [
    {
     "data": {
      "text/html": [
       "<div>\n",
       "<style scoped>\n",
       "    .dataframe tbody tr th:only-of-type {\n",
       "        vertical-align: middle;\n",
       "    }\n",
       "\n",
       "    .dataframe tbody tr th {\n",
       "        vertical-align: top;\n",
       "    }\n",
       "\n",
       "    .dataframe thead th {\n",
       "        text-align: right;\n",
       "    }\n",
       "</style>\n",
       "<table border=\"1\" class=\"dataframe\">\n",
       "  <thead>\n",
       "    <tr style=\"text-align: right;\">\n",
       "      <th></th>\n",
       "      <th>product_name</th>\n",
       "      <th>product_price</th>\n",
       "      <th>Rate</th>\n",
       "      <th>Review</th>\n",
       "      <th>Summary</th>\n",
       "      <th>Sentiment</th>\n",
       "    </tr>\n",
       "  </thead>\n",
       "  <tbody>\n",
       "    <tr>\n",
       "      <th>0</th>\n",
       "      <td>Candes 12 L Room/Personal Air Cooler??????(Whi...</td>\n",
       "      <td>3999</td>\n",
       "      <td>5</td>\n",
       "      <td>super!</td>\n",
       "      <td>great cooler excellent air flow and for this p...</td>\n",
       "      <td>positive</td>\n",
       "    </tr>\n",
       "    <tr>\n",
       "      <th>1</th>\n",
       "      <td>Candes 12 L Room/Personal Air Cooler??????(Whi...</td>\n",
       "      <td>3999</td>\n",
       "      <td>5</td>\n",
       "      <td>awesome</td>\n",
       "      <td>best budget 2 fit cooler nice cooling</td>\n",
       "      <td>positive</td>\n",
       "    </tr>\n",
       "    <tr>\n",
       "      <th>2</th>\n",
       "      <td>Candes 12 L Room/Personal Air Cooler??????(Whi...</td>\n",
       "      <td>3999</td>\n",
       "      <td>3</td>\n",
       "      <td>fair</td>\n",
       "      <td>the quality is good but the power of air is de...</td>\n",
       "      <td>positive</td>\n",
       "    </tr>\n",
       "    <tr>\n",
       "      <th>3</th>\n",
       "      <td>Candes 12 L Room/Personal Air Cooler??????(Whi...</td>\n",
       "      <td>3999</td>\n",
       "      <td>1</td>\n",
       "      <td>useless product</td>\n",
       "      <td>very bad product its a only a fan</td>\n",
       "      <td>negative</td>\n",
       "    </tr>\n",
       "    <tr>\n",
       "      <th>4</th>\n",
       "      <td>Candes 12 L Room/Personal Air Cooler??????(Whi...</td>\n",
       "      <td>3999</td>\n",
       "      <td>3</td>\n",
       "      <td>fair</td>\n",
       "      <td>ok ok product</td>\n",
       "      <td>neutral</td>\n",
       "    </tr>\n",
       "  </tbody>\n",
       "</table>\n",
       "</div>"
      ],
      "text/plain": [
       "                                        product_name product_price Rate  \\\n",
       "0  Candes 12 L Room/Personal Air Cooler??????(Whi...          3999    5   \n",
       "1  Candes 12 L Room/Personal Air Cooler??????(Whi...          3999    5   \n",
       "2  Candes 12 L Room/Personal Air Cooler??????(Whi...          3999    3   \n",
       "3  Candes 12 L Room/Personal Air Cooler??????(Whi...          3999    1   \n",
       "4  Candes 12 L Room/Personal Air Cooler??????(Whi...          3999    3   \n",
       "\n",
       "            Review                                            Summary  \\\n",
       "0           super!  great cooler excellent air flow and for this p...   \n",
       "1          awesome              best budget 2 fit cooler nice cooling   \n",
       "2             fair  the quality is good but the power of air is de...   \n",
       "3  useless product                  very bad product its a only a fan   \n",
       "4             fair                                      ok ok product   \n",
       "\n",
       "  Sentiment  \n",
       "0  positive  \n",
       "1  positive  \n",
       "2  positive  \n",
       "3  negative  \n",
       "4   neutral  "
      ]
     },
     "execution_count": 3,
     "metadata": {},
     "output_type": "execute_result"
    }
   ],
   "source": [
    "df.head()"
   ]
  },
  {
   "cell_type": "code",
   "execution_count": 4,
   "id": "121e12ec-b925-4970-a8f9-b40d4e0bc0e2",
   "metadata": {},
   "outputs": [
    {
     "name": "stdout",
     "output_type": "stream",
     "text": [
      "(205052, 6)\n"
     ]
    }
   ],
   "source": [
    "print(df.shape)"
   ]
  },
  {
   "cell_type": "code",
   "execution_count": 5,
   "id": "1fcf476f-2efb-453d-a003-f9bc0bdb79da",
   "metadata": {},
   "outputs": [
    {
     "data": {
      "text/plain": [
       "Sentiment\n",
       "positive    166581\n",
       "negative     28232\n",
       "neutral      10239\n",
       "Name: count, dtype: int64"
      ]
     },
     "execution_count": 5,
     "metadata": {},
     "output_type": "execute_result"
    }
   ],
   "source": [
    "df['Sentiment'].value_counts()"
   ]
  },
  {
   "cell_type": "code",
   "execution_count": 6,
   "id": "85df5be5-c6b5-4a6f-b483-a7051e47f524",
   "metadata": {},
   "outputs": [],
   "source": [
    "sentiment_distribution = df['Sentiment'].value_counts()"
   ]
  },
  {
   "cell_type": "code",
   "execution_count": 7,
   "id": "d43bb8e4-7410-4933-b50f-441f06261a14",
   "metadata": {},
   "outputs": [
    {
     "data": {
      "image/png": "[encoded data removed]",
      "text/plain": [
       "<Figure size 640x480 with 1 Axes>"
      ]
     },
     "metadata": {},
     "output_type": "display_data"
    }
   ],
   "source": [
    "plt.bar(sentiment_distribution.index, sentiment_distribution.values, color='skyblue')\n",
    "plt.title('Distribution of Sentiment classes')\n",
    "plt.xlabel('Class')\n",
    "plt.ylabel('Frequency')\n",
    "plt.xticks(rotation=45)\n",
    "plt.grid(axis='y', linestyle='--', alpha=0.7)\n",
    "plt.show()"
   ]
  },
  {
   "cell_type": "code",
   "execution_count": 8,
   "id": "feacd007-97a9-4d0d-8dca-b60a312173a8",
   "metadata": {},
   "outputs": [
    {
     "name": "stdout",
     "output_type": "stream",
     "text": [
      "Sentiment\n",
      "negative    10239\n",
      "neutral     10239\n",
      "positive    10239\n",
      "Name: count, dtype: int64\n"
     ]
    }
   ],
   "source": [
    "# Resample each class to the same count to make the class balanced\n",
    "min_class_count = df['Sentiment'].value_counts().min()\n",
    "df_balanced= df.groupby('Sentiment').apply(lambda x: x.sample(min_class_count)).reset_index(drop=True)\n",
    "print(df_balanced['Sentiment'].value_counts())"
   ]
  },
  {
   "cell_type": "code",
   "execution_count": 9,
   "id": "ba0befd4-81ee-4871-a5e7-dc1ffee87408",
   "metadata": {},
   "outputs": [
    {
     "data": {
      "text/plain": [
       "product_name        0\n",
       "product_price       0\n",
       "Rate                0\n",
       "Review           4024\n",
       "Summary             6\n",
       "Sentiment           0\n",
       "dtype: int64"
      ]
     },
     "execution_count": 9,
     "metadata": {},
     "output_type": "execute_result"
    }
   ],
   "source": [
    "df_balanced.isnull().sum()"
   ]
  },
  {
   "cell_type": "code",
   "execution_count": 10,
   "id": "bf99f152-32ed-4f80-bad0-cd70ee4317cd",
   "metadata": {},
   "outputs": [],
   "source": [
    "#Removing the nulls present in Summary column\n",
    "df_balanced.dropna(subset=['Summary'],inplace=True, axis=0)"
   ]
  },
  {
   "cell_type": "code",
   "execution_count": 11,
   "id": "7375fde7-a857-4e53-8b47-16c62c32fe98",
   "metadata": {},
   "outputs": [
    {
     "data": {
      "text/plain": [
       "product_name        0\n",
       "product_price       0\n",
       "Rate                0\n",
       "Review           4023\n",
       "Summary             0\n",
       "Sentiment           0\n",
       "dtype: int64"
      ]
     },
     "execution_count": 11,
     "metadata": {},
     "output_type": "execute_result"
    }
   ],
   "source": [
    "df_balanced.isnull().sum()"
   ]
  },
  {
   "cell_type": "code",
   "execution_count": 12,
   "id": "07e7a16a-3c00-4062-a714-25914faf6016",
   "metadata": {},
   "outputs": [
    {
     "name": "stderr",
     "output_type": "stream",
     "text": [
      "[nltk_data] Downloading package stopwords to\n",
      "[nltk_data]     C:\\Users\\priya\\AppData\\Roaming\\nltk_data...\n",
      "[nltk_data]   Package stopwords is already up-to-date!\n",
      "[nltk_data] Downloading package punkt to\n",
      "[nltk_data]     C:\\Users\\priya\\AppData\\Roaming\\nltk_data...\n",
      "[nltk_data]   Package punkt is already up-to-date!\n"
     ]
    }
   ],
   "source": [
    "nltk.download('stopwords')\n",
    "nltk.download('punkt')\n",
    "\n",
    "\n",
    "stop_words = set(stopwords.words('english'))\n",
    "stemmer = PorterStemmer()\n",
    "\n",
    "def preprocess_text(text):\n",
    "    text=str(text)\n",
    "    text = BeautifulSoup(text, \"html.parser\").get_text()\n",
    "    text = text.lower()\n",
    "    words = word_tokenize(text)\n",
    "    processed_words = [stemmer.stem(word) for word in words if word.isalnum() and word not in stop_words]\n",
    "    processed_text = ' '.join(processed_words)\n",
    "    return processed_text\n",
    "\n"
   ]
  },
  {
   "cell_type": "code",
   "execution_count": 13,
   "id": "e1b2d080-8cf1-4d58-85ae-6afd8fc7a778",
   "metadata": {},
   "outputs": [],
   "source": [
    "df_balanced['summary_cleaned']=df_balanced['Summary'].apply(preprocess_text)"
   ]
  },
  {
   "cell_type": "code",
   "execution_count": 14,
   "id": "422dc3e7-79a4-4cf6-aff6-34d063fe019f",
   "metadata": {},
   "outputs": [
    {
     "name": "stdout",
     "output_type": "stream",
     "text": [
      "['negative', 'neutral', 'positive']\n"
     ]
    }
   ],
   "source": [
    "print(sorted(df_balanced['Sentiment'].unique().tolist()))"
   ]
  },
  {
   "cell_type": "code",
   "execution_count": 15,
   "id": "00597ef0-fa22-4ade-94fd-62d2ed2cc630",
   "metadata": {},
   "outputs": [],
   "source": [
    "encoding={val:key for key,val in enumerate(sorted(df_balanced['Sentiment'].unique().tolist()))}"
   ]
  },
  {
   "cell_type": "code",
   "execution_count": 16,
   "id": "856df9ba-556a-408f-8765-64f524dc2bea",
   "metadata": {},
   "outputs": [
    {
     "data": {
      "text/plain": [
       "{'negative': 0, 'neutral': 1, 'positive': 2}"
      ]
     },
     "execution_count": 16,
     "metadata": {},
     "output_type": "execute_result"
    }
   ],
   "source": [
    "encoding"
   ]
  },
  {
   "cell_type": "code",
   "execution_count": 17,
   "id": "28c765d4-aaae-4e7c-9048-eac152b6ca6e",
   "metadata": {},
   "outputs": [],
   "source": [
    "label_id=pd.DataFrame(encoding.items(),columns=['labels','classes'])"
   ]
  },
  {
   "cell_type": "code",
   "execution_count": 18,
   "id": "36df3ea0-f5e3-4021-9163-41fb6bbbe985",
   "metadata": {},
   "outputs": [
    {
     "data": {
      "text/html": [
       "<div>\n",
       "<style scoped>\n",
       "    .dataframe tbody tr th:only-of-type {\n",
       "        vertical-align: middle;\n",
       "    }\n",
       "\n",
       "    .dataframe tbody tr th {\n",
       "        vertical-align: top;\n",
       "    }\n",
       "\n",
       "    .dataframe thead th {\n",
       "        text-align: right;\n",
       "    }\n",
       "</style>\n",
       "<table border=\"1\" class=\"dataframe\">\n",
       "  <thead>\n",
       "    <tr style=\"text-align: right;\">\n",
       "      <th></th>\n",
       "      <th>labels</th>\n",
       "      <th>classes</th>\n",
       "    </tr>\n",
       "  </thead>\n",
       "  <tbody>\n",
       "    <tr>\n",
       "      <th>0</th>\n",
       "      <td>negative</td>\n",
       "      <td>0</td>\n",
       "    </tr>\n",
       "    <tr>\n",
       "      <th>1</th>\n",
       "      <td>neutral</td>\n",
       "      <td>1</td>\n",
       "    </tr>\n",
       "    <tr>\n",
       "      <th>2</th>\n",
       "      <td>positive</td>\n",
       "      <td>2</td>\n",
       "    </tr>\n",
       "  </tbody>\n",
       "</table>\n",
       "</div>"
      ],
      "text/plain": [
       "     labels  classes\n",
       "0  negative        0\n",
       "1   neutral        1\n",
       "2  positive        2"
      ]
     },
     "execution_count": 18,
     "metadata": {},
     "output_type": "execute_result"
    }
   ],
   "source": [
    "label_id"
   ]
  },
  {
   "cell_type": "code",
   "execution_count": 19,
   "id": "29865b5d-efae-417c-bde8-5394c69a1d54",
   "metadata": {},
   "outputs": [],
   "source": [
    "label_id.to_csv(\"label_to_id.csv\",index=False)"
   ]
  },
  {
   "cell_type": "code",
   "execution_count": 20,
   "id": "49d50b5c-0da4-4cd5-ad36-269f9807ed21",
   "metadata": {},
   "outputs": [],
   "source": [
    "df_balanced['sentiment_class'] =df_balanced['Sentiment'].map(encoding)"
   ]
  },
  {
   "cell_type": "code",
   "execution_count": 21,
   "id": "2671a94e-6877-4c82-aa50-7b4570fa2b9e",
   "metadata": {},
   "outputs": [
    {
     "data": {
      "text/html": [
       "<div>\n",
       "<style scoped>\n",
       "    .dataframe tbody tr th:only-of-type {\n",
       "        vertical-align: middle;\n",
       "    }\n",
       "\n",
       "    .dataframe tbody tr th {\n",
       "        vertical-align: top;\n",
       "    }\n",
       "\n",
       "    .dataframe thead th {\n",
       "        text-align: right;\n",
       "    }\n",
       "</style>\n",
       "<table border=\"1\" class=\"dataframe\">\n",
       "  <thead>\n",
       "    <tr style=\"text-align: right;\">\n",
       "      <th></th>\n",
       "      <th>product_name</th>\n",
       "      <th>product_price</th>\n",
       "      <th>Rate</th>\n",
       "      <th>Review</th>\n",
       "      <th>Summary</th>\n",
       "      <th>Sentiment</th>\n",
       "      <th>summary_cleaned</th>\n",
       "      <th>sentiment_class</th>\n",
       "    </tr>\n",
       "  </thead>\n",
       "  <tbody>\n",
       "    <tr>\n",
       "      <th>0</th>\n",
       "      <td>Men Graphic Print Round Neck Black T-Shirt</td>\n",
       "      <td>269</td>\n",
       "      <td>1</td>\n",
       "      <td>NaN</td>\n",
       "      <td>very bed cloth</td>\n",
       "      <td>negative</td>\n",
       "      <td>bed cloth</td>\n",
       "      <td>0</td>\n",
       "    </tr>\n",
       "    <tr>\n",
       "      <th>1</th>\n",
       "      <td>Boys &amp; Girls Full Sleeve Printed Sweatshirt</td>\n",
       "      <td>599</td>\n",
       "      <td>1</td>\n",
       "      <td>NaN</td>\n",
       "      <td>thats is very bad i will order beautiful colou...</td>\n",
       "      <td>negative</td>\n",
       "      <td>that bad order beauti colour print good print ...</td>\n",
       "      <td>0</td>\n",
       "    </tr>\n",
       "    <tr>\n",
       "      <th>2</th>\n",
       "      <td>Mayne Exceed Helicopter With Remote Control Ch...</td>\n",
       "      <td>369</td>\n",
       "      <td>1</td>\n",
       "      <td>don't waste your money</td>\n",
       "      <td>bed quality</td>\n",
       "      <td>negative</td>\n",
       "      <td>bed qualiti</td>\n",
       "      <td>0</td>\n",
       "    </tr>\n",
       "    <tr>\n",
       "      <th>3</th>\n",
       "      <td>Men Checkered Single Breasted Formal Blazer???...</td>\n",
       "      <td>4366</td>\n",
       "      <td>1</td>\n",
       "      <td>NaN</td>\n",
       "      <td>poor qualityi return it</td>\n",
       "      <td>negative</td>\n",
       "      <td>poor qualityi return</td>\n",
       "      <td>0</td>\n",
       "    </tr>\n",
       "    <tr>\n",
       "      <th>4</th>\n",
       "      <td>POOWEREST Carbon Steel Collapsible WardrobeFin...</td>\n",
       "      <td>495</td>\n",
       "      <td>1</td>\n",
       "      <td>utterly disappointed</td>\n",
       "      <td>wastage of money</td>\n",
       "      <td>negative</td>\n",
       "      <td>wastag money</td>\n",
       "      <td>0</td>\n",
       "    </tr>\n",
       "  </tbody>\n",
       "</table>\n",
       "</div>"
      ],
      "text/plain": [
       "                                        product_name product_price Rate  \\\n",
       "0         Men Graphic Print Round Neck Black T-Shirt           269    1   \n",
       "1        Boys & Girls Full Sleeve Printed Sweatshirt           599    1   \n",
       "2  Mayne Exceed Helicopter With Remote Control Ch...           369    1   \n",
       "3  Men Checkered Single Breasted Formal Blazer???...          4366    1   \n",
       "4  POOWEREST Carbon Steel Collapsible WardrobeFin...           495    1   \n",
       "\n",
       "                   Review                                            Summary  \\\n",
       "0                     NaN                                     very bed cloth   \n",
       "1                     NaN  thats is very bad i will order beautiful colou...   \n",
       "2  don't waste your money                                        bed quality   \n",
       "3                     NaN                            poor qualityi return it   \n",
       "4    utterly disappointed                                   wastage of money   \n",
       "\n",
       "  Sentiment                                    summary_cleaned  \\\n",
       "0  negative                                          bed cloth   \n",
       "1  negative  that bad order beauti colour print good print ...   \n",
       "2  negative                                        bed qualiti   \n",
       "3  negative                               poor qualityi return   \n",
       "4  negative                                       wastag money   \n",
       "\n",
       "   sentiment_class  \n",
       "0                0  \n",
       "1                0  \n",
       "2                0  \n",
       "3                0  \n",
       "4                0  "
      ]
     },
     "execution_count": 21,
     "metadata": {},
     "output_type": "execute_result"
    }
   ],
   "source": [
    "df_balanced.head()"
   ]
  },
  {
   "cell_type": "code",
   "execution_count": 22,
   "id": "ed6c8969-a6bc-4e19-bc6f-d712a69488b5",
   "metadata": {},
   "outputs": [
    {
     "data": {
      "text/plain": [
       "(30711, 12308)"
      ]
     },
     "execution_count": 22,
     "metadata": {},
     "output_type": "execute_result"
    }
   ],
   "source": [
    "# Creates TF-IDF vectorizer and transforms the corpus\n",
    "vectorizer = TfidfVectorizer()\n",
    "reviews_corpus = vectorizer.fit_transform(df_balanced['summary_cleaned'])\n",
    "reviews_corpus.shape"
   ]
  },
  {
   "cell_type": "code",
   "execution_count": 23,
   "id": "df3a3bb9-b826-490b-80c0-7f40efd4c431",
   "metadata": {},
   "outputs": [
    {
     "data": {
      "text/plain": [
       "(30711,)"
      ]
     },
     "execution_count": 23,
     "metadata": {},
     "output_type": "execute_result"
    }
   ],
   "source": [
    "sentiment = df_balanced['sentiment_class']\n",
    "sentiment.shape"
   ]
  },
  {
   "cell_type": "code",
   "execution_count": 46,
   "id": "ef622f6b-f8ba-481c-b6e2-bc7ecf8f901c",
   "metadata": {},
   "outputs": [
    {
     "name": "stdout",
     "output_type": "stream",
     "text": [
      "Train data shape  (21497, 12308) (21497,)\n",
      "Test data shape  (9214, 12308) (9214,)\n"
     ]
    }
   ],
   "source": [
    "#Split the data to training and testing set with ratio 70:30\n",
    "X_train,X_test,y_train,y_test = train_test_split(reviews_corpus,sentiment,test_size=0.3,random_state=42)\n",
    "print('Train data shape ',X_train.shape,y_train.shape)\n",
    "print('Test data shape ',X_test.shape,y_test.shape)"
   ]
  },
  {
   "cell_type": "code",
   "execution_count": 68,
   "id": "89756aa9-6257-40d8-8c8e-441eb62d72bf",
   "metadata": {},
   "outputs": [],
   "source": [
    "#Use Naive Bayes, Random Forest, XGBoost to fit the training data\n",
    "\n",
    "clf_naive_bayes = MultinomialNB().fit(X_train, y_train) #fit the training data\n",
    "pred_naive_bayes = clf_naive_bayes .predict(X_test) #predict the sentiment for test data\n",
    "\n",
    "clf_random_forest = RandomForestClassifier(n_estimators=50).fit(X_train, y_train)\n",
    "pred_random_forest  = clf_random_forest.predict(X_test)\n",
    "\n",
    "\n",
    "clf_xgboost = XGBClassifier(n_estimators=50,reg_alpha=0.001,\\\n",
    "                            reg_lambda=0.001,use_label_encoder=False,\\\n",
    "                            eval_metric='logloss').fit(X_train, y_train)\n",
    "pred_xgboost = clf_xgboost.predict(X_test)\n"
   ]
  },
  {
   "cell_type": "code",
   "execution_count": 85,
   "id": "1d7194e9-de54-4426-a0d4-e8371fe7b85c",
   "metadata": {},
   "outputs": [],
   "source": [
    "## Check the performance of the models\n",
    "accuracy_naive_bayes = accuracy_score(y_test, pred_naive_bayes)\n",
    "report_naive_bayes  = classification_report(y_test, pred_naive_bayes)\n",
    "\n",
    "\n",
    "accuracy_random_forest  = accuracy_score(y_test, pred_random_forest)\n",
    "report_random_forest  = classification_report(y_test, pred_random_forest)\n",
    "\n",
    "accuracy_xgboost  = accuracy_score(y_test, pred_xgboost)\n",
    "report_xgboost   = classification_report(y_test, pred_xgboost)\n"
   ]
  },
  {
   "cell_type": "code",
   "execution_count": 86,
   "id": "8634f4c7-e054-4b64-ba24-87fae4cd1545",
   "metadata": {},
   "outputs": [
    {
     "name": "stdout",
     "output_type": "stream",
     "text": [
      "The accuracy of Naive Bayes Model is 76.72%\n",
      "Performance Metrics of Naive Bayes Model\n",
      "\n",
      "              precision    recall  f1-score   support\n",
      "\n",
      "           0       0.71      0.80      0.75      3085\n",
      "           1       0.82      0.64      0.72      3058\n",
      "           2       0.79      0.86      0.82      3071\n",
      "\n",
      "    accuracy                           0.77      9214\n",
      "   macro avg       0.77      0.77      0.76      9214\n",
      "weighted avg       0.77      0.77      0.76      9214\n",
      "\n",
      "****************************************************************************************************\n",
      "\n",
      "\n",
      "\n",
      "The accuracy of Random Forest Model is 78.19%\n",
      "Performance Metrics of Random Forest Model\n",
      "\n",
      "              precision    recall  f1-score   support\n",
      "\n",
      "           0       0.76      0.76      0.76      3085\n",
      "           1       0.78      0.73      0.75      3058\n",
      "           2       0.80      0.86      0.83      3071\n",
      "\n",
      "    accuracy                           0.78      9214\n",
      "   macro avg       0.78      0.78      0.78      9214\n",
      "weighted avg       0.78      0.78      0.78      9214\n",
      "\n",
      "****************************************************************************************************\n",
      "\n",
      "\n",
      "\n",
      "The accuracy of Xgboost Model is 78.46%\n",
      "Performance Metrics of Xgboost Model\n",
      "\n",
      "              precision    recall  f1-score   support\n",
      "\n",
      "           0       0.80      0.72      0.76      3085\n",
      "           1       0.75      0.77      0.76      3058\n",
      "           2       0.80      0.86      0.83      3071\n",
      "\n",
      "    accuracy                           0.78      9214\n",
      "   macro avg       0.78      0.78      0.78      9214\n",
      "weighted avg       0.78      0.78      0.78      9214\n",
      "\n",
      "****************************************************************************************************\n",
      "\n",
      "\n",
      "\n"
     ]
    }
   ],
   "source": [
    "print(f\"The accuracy of Naive Bayes Model is {accuracy_naive_bayes*100:.2f}%\")\n",
    "print(f\"Performance Metrics of Naive Bayes Model\\n\")\n",
    "print(report_naive_bayes)\n",
    "print(\"*\"*100)\n",
    "print(\"\\n\\n\")\n",
    "\n",
    "\n",
    "print(f\"The accuracy of Random Forest Model is {accuracy_random_forest*100:.2f}%\")\n",
    "print(f\"Performance Metrics of Random Forest Model\\n\")\n",
    "print(report_random_forest)\n",
    "print(\"*\"*100)\n",
    "print(\"\\n\\n\")\n",
    "\n",
    "\n",
    "\n",
    "print(f\"The accuracy of Xgboost Model is {accuracy_xgboost*100:.2f}%\")\n",
    "print(f\"Performance Metrics of Xgboost Model\\n\")\n",
    "print(report_xgboost)\n",
    "print(\"*\"*100)\n",
    "print(\"\\n\\n\")\n"
   ]
  },
  {
   "cell_type": "markdown",
   "id": "5715d401-5089-4d81-8842-28b3547f7511",
   "metadata": {},
   "source": [
    "### XGBoost gave the best Results. "
   ]
  },
  {
   "cell_type": "markdown",
   "id": "fc4eecf5-bd42-446f-ba2d-fba11334f4ea",
   "metadata": {},
   "source": [
    "### Using Word2Vec to see if this featurization technique can improve the performance"
   ]
  },
  {
   "cell_type": "code",
   "execution_count": null,
   "id": "3943f1ca-804a-48c4-97ee-f8262a42b804",
   "metadata": {},
   "outputs": [],
   "source": [
    "\n",
    "nltk.download('punkt')"
   ]
  },
  {
   "cell_type": "code",
   "execution_count": 39,
   "id": "9f7f7f9a-3728-4b96-8297-cee6d690bd03",
   "metadata": {},
   "outputs": [],
   "source": [
    "# Preprocess text: tokenize and remove stopwords\n",
    "stop_words = set(stopwords.words('english'))\n",
    "def preprocess(text):\n",
    "    words = word_tokenize(str(text).lower())\n",
    "    words = [word for word in words if word.isalnum() and word not in stop_words]\n",
    "    return words\n",
    "\n",
    "df_balanced['tokens'] = df_balanced['Summary'].apply(preprocess)\n"
   ]
  },
  {
   "cell_type": "code",
   "execution_count": 40,
   "id": "ccd9856b-f6d5-4248-a948-879bb2664de3",
   "metadata": {},
   "outputs": [],
   "source": [
    "# Train Word2Vec model\n",
    "sentences = df_balanced['tokens'].tolist()\n",
    "word2vec_model = Word2Vec(sentences, vector_size=200, window=5, min_count=1, workers=4)"
   ]
  },
  {
   "cell_type": "code",
   "execution_count": 41,
   "id": "8ea871d9-f2ea-473c-8b64-17737696f7aa",
   "metadata": {},
   "outputs": [],
   "source": [
    "# Function to average word vectors for a text\n",
    "def vectorize_text(tokens, model):\n",
    "    word_vectors = [model.wv[word] for word in tokens if word in model.wv]\n",
    "    if len(word_vectors) > 0:\n",
    "        return sum(word_vectors) / len(word_vectors)\n",
    "    else:\n",
    "        return [0] * model.vector_size"
   ]
  },
  {
   "cell_type": "code",
   "execution_count": 42,
   "id": "5dea325b-2804-4aee-875f-d74718a63f7c",
   "metadata": {},
   "outputs": [],
   "source": [
    "# Apply vectorization to the dataset\n",
    "df_balanced['vector'] = df_balanced['tokens'].apply(lambda tokens: vectorize_text(tokens, word2vec_model))"
   ]
  },
  {
   "cell_type": "code",
   "execution_count": 43,
   "id": "5e530202-9950-4265-bfa3-cbdaac0a0699",
   "metadata": {},
   "outputs": [],
   "source": [
    "# Prepare feature matrix and target vector\n",
    "X = list(df_balanced['vector'])\n",
    "y = df_balanced['sentiment_class']"
   ]
  },
  {
   "cell_type": "code",
   "execution_count": 44,
   "id": "15a61d39-30c0-46bc-a1ae-953d0af19bc2",
   "metadata": {},
   "outputs": [],
   "source": [
    "# Split the data\n",
    "X_train, X_test, y_train, y_test = train_test_split(X, y, test_size=0.2, random_state=42)"
   ]
  },
  {
   "cell_type": "code",
   "execution_count": 45,
   "id": "122c6b08-c8b8-4b35-bea0-01bf78c22b3f",
   "metadata": {},
   "outputs": [],
   "source": [
    "clf_xgb = XGBClassifier(use_label_encoder=False, eval_metric='logloss')\n",
    "clf_xgb.fit(X_train, y_train)\n",
    "pred_xgb = clf_xgb.predict(X_test)\n",
    "\n",
    "\n",
    "clf_rf = RandomForestClassifier(n_estimators=100, random_state=42)\n",
    "clf_rf.fit(X_train, y_train)\n",
    "pred_rf = clf_rf.predict(X_test)"
   ]
  },
  {
   "cell_type": "code",
   "execution_count": 36,
   "id": "ed60ddff-0a59-4ce3-86e1-ae580f2b5870",
   "metadata": {},
   "outputs": [],
   "source": [
    "accuracy_rf  = accuracy_score(y_test, pred_rf)\n",
    "report_rf  = classification_report(y_test, pred_rf)\n",
    "\n",
    "accuracy_xgb  = accuracy_score(y_test, pred_xgb)\n",
    "report_xgb = classification_report(y_test, pred_xgb)"
   ]
  },
  {
   "cell_type": "code",
   "execution_count": 37,
   "id": "d660ff4a-876a-4951-a515-11f5660a0d05",
   "metadata": {},
   "outputs": [
    {
     "name": "stdout",
     "output_type": "stream",
     "text": [
      "The accuraccy of Random Forest Model after word2vec is 70.80%\n",
      "Performance Metrics of Random Forest Model\n",
      "\n",
      "              precision    recall  f1-score   support\n",
      "\n",
      "           0       0.66      0.69      0.67      2033\n",
      "           1       0.73      0.66      0.70      2074\n",
      "           2       0.74      0.77      0.75      2036\n",
      "\n",
      "    accuracy                           0.71      6143\n",
      "   macro avg       0.71      0.71      0.71      6143\n",
      "weighted avg       0.71      0.71      0.71      6143\n",
      "\n",
      "****************************************************************************************************\n",
      "\n",
      "\n",
      "\n",
      "The accuraccy of Xgboost Model after word2vec is 71.01%\n",
      "Performance Metrics of Xgboost Model\n",
      "\n",
      "              precision    recall  f1-score   support\n",
      "\n",
      "           0       0.67      0.67      0.67      2033\n",
      "           1       0.72      0.67      0.70      2074\n",
      "           2       0.74      0.79      0.76      2036\n",
      "\n",
      "    accuracy                           0.71      6143\n",
      "   macro avg       0.71      0.71      0.71      6143\n",
      "weighted avg       0.71      0.71      0.71      6143\n",
      "\n",
      "****************************************************************************************************\n",
      "\n",
      "\n",
      "\n"
     ]
    }
   ],
   "source": [
    "print(f\"The accuraccy of Random Forest Model after word2vec is {accuracy_rf*100:.2f}%\")\n",
    "print(f\"Performance Metrics of Random Forest Model\\n\")\n",
    "print(report_rf)\n",
    "print(\"*\"*100)\n",
    "print(\"\\n\\n\")\n",
    "\n",
    "\n",
    "\n",
    "print(f\"The accuraccy of Xgboost Model after word2vec is {accuracy_xgb*100:.2f}%\")\n",
    "print(f\"Performance Metrics of Xgboost Model\\n\")\n",
    "print(report_xgb)\n",
    "print(\"*\"*100)\n",
    "print(\"\\n\\n\")"
   ]
  },
  {
   "cell_type": "markdown",
   "id": "8bca57ed-ddc8-477a-9491-13198f28bf4a",
   "metadata": {},
   "source": [
    "### Performace did not improve even after using word2vec. Hence experimented with BERT model"
   ]
  },
  {
   "cell_type": "code",
   "execution_count": null,
   "id": "02fc0714-69b3-48f5-b1f1-76429131f3d3",
   "metadata": {},
   "outputs": [],
   "source": []
  }
 ],
 "metadata": {
  "kernelspec": {
   "display_name": "Python 3 (ipykernel)",
   "language": "python",
   "name": "python3"
  },
  "language_info": {
   "codemirror_mode": {
    "name": "ipython",
    "version": 3
   },
   "file_extension": ".py",
   "mimetype": "text/x-python",
   "name": "python",
   "nbconvert_exporter": "python",
   "pygments_lexer": "ipython3",
   "version": "3.10.0"
  }
 },
 "nbformat": 4,
 "nbformat_minor": 5
}
